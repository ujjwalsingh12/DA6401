{
 "cells": [
  {
   "cell_type": "code",
   "execution_count": 1,
   "id": "c91aaa1f",
   "metadata": {
    "_cell_guid": "b1076dfc-b9ad-4769-8c92-a6c4dae69d19",
    "_uuid": "8f2839f25d086af736a60e9eeb907d3b93b6e0e5",
    "execution": {
     "iopub.execute_input": "2025-03-10T06:16:49.233437Z",
     "iopub.status.busy": "2025-03-10T06:16:49.233155Z",
     "iopub.status.idle": "2025-03-10T06:16:50.404496Z",
     "shell.execute_reply": "2025-03-10T06:16:50.402838Z"
    },
    "papermill": {
     "duration": 1.17711,
     "end_time": "2025-03-10T06:16:50.406364",
     "exception": false,
     "start_time": "2025-03-10T06:16:49.229254",
     "status": "completed"
    },
    "tags": []
   },
   "outputs": [],
   "source": [
    "# This Python 3 environment comes with many helpful analytics libraries installed\n",
    "# It is defined by the kaggle/python Docker image: https://github.com/kaggle/docker-python\n",
    "# For example, here's several helpful packages to load\n",
    "\n",
    "import numpy as np # linear algebra\n",
    "import pandas as pd # data processing, CSV file I/O (e.g. pd.read_csv)\n",
    "\n",
    "# Input data files are available in the read-only \"../input/\" directory\n",
    "# For example, running this (by clicking run or pressing Shift+Enter) will list all files under the input directory\n",
    "\n",
    "import os\n",
    "for dirname, _, filenames in os.walk('/kaggle/input'):\n",
    "    for filename in filenames:\n",
    "        print(os.path.join(dirname, filename))\n",
    "\n",
    "# You can write up to 20GB to the current directory (/kaggle/working/) that gets preserved as output when you create a version using \"Save & Run All\" \n",
    "# You can also write temporary files to /kaggle/temp/, but they won't be saved outside of the current session"
   ]
  },
  {
   "cell_type": "code",
   "execution_count": 2,
   "id": "5981ad0c",
   "metadata": {
    "execution": {
     "iopub.execute_input": "2025-03-10T06:16:50.412487Z",
     "iopub.status.busy": "2025-03-10T06:16:50.412047Z",
     "iopub.status.idle": "2025-03-10T06:16:55.754908Z",
     "shell.execute_reply": "2025-03-10T06:16:55.753980Z"
    },
    "papermill": {
     "duration": 5.347448,
     "end_time": "2025-03-10T06:16:55.756550",
     "exception": false,
     "start_time": "2025-03-10T06:16:50.409102",
     "status": "completed"
    },
    "tags": []
   },
   "outputs": [
    {
     "name": "stdout",
     "output_type": "stream",
     "text": [
      "Requirement already satisfied: wandb in /usr/local/lib/python3.10/dist-packages (0.19.1)\r\n",
      "Requirement already satisfied: click!=8.0.0,>=7.1 in /usr/local/lib/python3.10/dist-packages (from wandb) (8.1.7)\r\n",
      "Requirement already satisfied: docker-pycreds>=0.4.0 in /usr/local/lib/python3.10/dist-packages (from wandb) (0.4.0)\r\n",
      "Requirement already satisfied: gitpython!=3.1.29,>=1.0.0 in /usr/local/lib/python3.10/dist-packages (from wandb) (3.1.43)\r\n",
      "Requirement already satisfied: platformdirs in /usr/local/lib/python3.10/dist-packages (from wandb) (4.3.6)\r\n",
      "Requirement already satisfied: protobuf!=4.21.0,!=5.28.0,<6,>=3.19.0 in /usr/local/lib/python3.10/dist-packages (from wandb) (3.20.3)\r\n",
      "Requirement already satisfied: psutil>=5.0.0 in /usr/local/lib/python3.10/dist-packages (from wandb) (5.9.5)\r\n",
      "Requirement already satisfied: pydantic<3,>=2.6 in /usr/local/lib/python3.10/dist-packages (from wandb) (2.11.0a2)\r\n",
      "Requirement already satisfied: pyyaml in /usr/local/lib/python3.10/dist-packages (from wandb) (6.0.2)\r\n",
      "Requirement already satisfied: requests<3,>=2.0.0 in /usr/local/lib/python3.10/dist-packages (from wandb) (2.32.3)\r\n",
      "Requirement already satisfied: sentry-sdk>=2.0.0 in /usr/local/lib/python3.10/dist-packages (from wandb) (2.19.2)\r\n",
      "Requirement already satisfied: setproctitle in /usr/local/lib/python3.10/dist-packages (from wandb) (1.3.4)\r\n",
      "Requirement already satisfied: setuptools in /usr/local/lib/python3.10/dist-packages (from wandb) (75.1.0)\r\n",
      "Requirement already satisfied: typing-extensions<5,>=4.4 in /usr/local/lib/python3.10/dist-packages (from wandb) (4.12.2)\r\n",
      "Requirement already satisfied: six>=1.4.0 in /usr/local/lib/python3.10/dist-packages (from docker-pycreds>=0.4.0->wandb) (1.17.0)\r\n",
      "Requirement already satisfied: gitdb<5,>=4.0.1 in /usr/local/lib/python3.10/dist-packages (from gitpython!=3.1.29,>=1.0.0->wandb) (4.0.11)\r\n",
      "Requirement already satisfied: annotated-types>=0.6.0 in /usr/local/lib/python3.10/dist-packages (from pydantic<3,>=2.6->wandb) (0.7.0)\r\n",
      "Requirement already satisfied: pydantic-core==2.29.0 in /usr/local/lib/python3.10/dist-packages (from pydantic<3,>=2.6->wandb) (2.29.0)\r\n",
      "Requirement already satisfied: charset-normalizer<4,>=2 in /usr/local/lib/python3.10/dist-packages (from requests<3,>=2.0.0->wandb) (3.4.1)\r\n",
      "Requirement already satisfied: idna<4,>=2.5 in /usr/local/lib/python3.10/dist-packages (from requests<3,>=2.0.0->wandb) (3.10)\r\n",
      "Requirement already satisfied: urllib3<3,>=1.21.1 in /usr/local/lib/python3.10/dist-packages (from requests<3,>=2.0.0->wandb) (2.3.0)\r\n",
      "Requirement already satisfied: certifi>=2017.4.17 in /usr/local/lib/python3.10/dist-packages (from requests<3,>=2.0.0->wandb) (2025.1.31)\r\n",
      "Requirement already satisfied: smmap<6,>=3.0.1 in /usr/local/lib/python3.10/dist-packages (from gitdb<5,>=4.0.1->gitpython!=3.1.29,>=1.0.0->wandb) (5.0.1)\r\n"
     ]
    }
   ],
   "source": [
    "!pip install wandb"
   ]
  },
  {
   "cell_type": "code",
   "execution_count": 3,
   "id": "06b9e12b",
   "metadata": {
    "execution": {
     "iopub.execute_input": "2025-03-10T06:16:55.762290Z",
     "iopub.status.busy": "2025-03-10T06:16:55.761950Z",
     "iopub.status.idle": "2025-03-10T06:17:14.201025Z",
     "shell.execute_reply": "2025-03-10T06:17:14.200126Z"
    },
    "papermill": {
     "duration": 18.443554,
     "end_time": "2025-03-10T06:17:14.202532",
     "exception": false,
     "start_time": "2025-03-10T06:16:55.758978",
     "status": "completed"
    },
    "tags": []
   },
   "outputs": [
    {
     "name": "stderr",
     "output_type": "stream",
     "text": [
      "\u001b[34m\u001b[1mwandb\u001b[0m: Using wandb-core as the SDK backend.  Please refer to https://wandb.me/wandb-core for more information.\n",
      "\u001b[34m\u001b[1mwandb\u001b[0m: Currently logged in as: \u001b[33mcs23m071\u001b[0m (\u001b[33mcs23m071-indian-institute-of-technology-madras\u001b[0m). Use \u001b[1m`wandb login --relogin`\u001b[0m to force relogin\n",
      "\u001b[34m\u001b[1mwandb\u001b[0m: \u001b[33mWARNING\u001b[0m If you're specifying your api key in code, ensure this code is not shared publicly.\n",
      "\u001b[34m\u001b[1mwandb\u001b[0m: \u001b[33mWARNING\u001b[0m Consider setting the WANDB_API_KEY environment variable, or running `wandb login` from the command line.\n",
      "\u001b[34m\u001b[1mwandb\u001b[0m: Appending key for api.wandb.ai to your netrc file: /root/.netrc\n"
     ]
    },
    {
     "data": {
      "text/plain": [
       "True"
      ]
     },
     "execution_count": 3,
     "metadata": {},
     "output_type": "execute_result"
    }
   ],
   "source": [
    "\n",
    "from keras.datasets import fashion_mnist\n",
    "import matplotlib.pyplot as plt\n",
    "import numpy as np\n",
    "import wandb\n",
    "wandb.login(key=\"1b74d87eef0c8dff900595f1526e95e162049f6a\")"
   ]
  },
  {
   "cell_type": "code",
   "execution_count": 4,
   "id": "5d27c6dd",
   "metadata": {
    "execution": {
     "iopub.execute_input": "2025-03-10T06:17:14.208393Z",
     "iopub.status.busy": "2025-03-10T06:17:14.208123Z",
     "iopub.status.idle": "2025-03-10T06:17:16.826449Z",
     "shell.execute_reply": "2025-03-10T06:17:16.825665Z"
    },
    "papermill": {
     "duration": 2.622566,
     "end_time": "2025-03-10T06:17:16.827832",
     "exception": false,
     "start_time": "2025-03-10T06:17:14.205266",
     "status": "completed"
    },
    "tags": []
   },
   "outputs": [
    {
     "name": "stdout",
     "output_type": "stream",
     "text": [
      "Downloading data from https://storage.googleapis.com/tensorflow/tf-keras-datasets/train-labels-idx1-ubyte.gz\n",
      "\u001b[1m29515/29515\u001b[0m \u001b[32m━━━━━━━━━━━━━━━━━━━━\u001b[0m\u001b[37m\u001b[0m \u001b[1m0s\u001b[0m 0us/step\n",
      "Downloading data from https://storage.googleapis.com/tensorflow/tf-keras-datasets/train-images-idx3-ubyte.gz\n",
      "\u001b[1m26421880/26421880\u001b[0m \u001b[32m━━━━━━━━━━━━━━━━━━━━\u001b[0m\u001b[37m\u001b[0m \u001b[1m1s\u001b[0m 0us/step\n",
      "Downloading data from https://storage.googleapis.com/tensorflow/tf-keras-datasets/t10k-labels-idx1-ubyte.gz\n",
      "\u001b[1m5148/5148\u001b[0m \u001b[32m━━━━━━━━━━━━━━━━━━━━\u001b[0m\u001b[37m\u001b[0m \u001b[1m0s\u001b[0m 0us/step\n",
      "Downloading data from https://storage.googleapis.com/tensorflow/tf-keras-datasets/t10k-images-idx3-ubyte.gz\n",
      "\u001b[1m4422102/4422102\u001b[0m \u001b[32m━━━━━━━━━━━━━━━━━━━━\u001b[0m\u001b[37m\u001b[0m \u001b[1m1s\u001b[0m 0us/step\n"
     ]
    }
   ],
   "source": [
    "# (train_imgs, train_lbls), (test_imgs, test_lbls) = fashion_mnist.load_data()\n",
    "(train_images, train_labels), (test_images, test_labels) = fashion_mnist.load_data()"
   ]
  },
  {
   "cell_type": "code",
   "execution_count": null,
   "id": "3e056d87",
   "metadata": {
    "papermill": {
     "duration": 0.00357,
     "end_time": "2025-03-10T06:17:16.835605",
     "exception": false,
     "start_time": "2025-03-10T06:17:16.832035",
     "status": "completed"
    },
    "tags": []
   },
   "outputs": [],
   "source": []
  },
  {
   "cell_type": "markdown",
   "id": "62b21373",
   "metadata": {
    "papermill": {
     "duration": 0.003365,
     "end_time": "2025-03-10T06:17:16.842610",
     "exception": false,
     "start_time": "2025-03-10T06:17:16.839245",
     "status": "completed"
    },
    "tags": []
   },
   "source": [
    "# Question 1"
   ]
  },
  {
   "cell_type": "code",
   "execution_count": 5,
   "id": "c117415c",
   "metadata": {
    "execution": {
     "iopub.execute_input": "2025-03-10T06:17:16.851103Z",
     "iopub.status.busy": "2025-03-10T06:17:16.850801Z",
     "iopub.status.idle": "2025-03-10T06:17:17.479503Z",
     "shell.execute_reply": "2025-03-10T06:17:17.478740Z"
    },
    "papermill": {
     "duration": 0.634413,
     "end_time": "2025-03-10T06:17:17.480677",
     "exception": false,
     "start_time": "2025-03-10T06:17:16.846264",
     "status": "completed"
    },
    "tags": []
   },
   "outputs": [
    {
     "data": {
      "image/png": "[encoded data removed]",
      "text/plain": [
       "<Figure size 1000x500 with 10 Axes>"
      ]
     },
     "metadata": {},
     "output_type": "display_data"
    }
   ],
   "source": [
    "class_names = ['Tshirt', 'Pants', 'Sweater', 'Gown', 'Jacket',  \n",
    "               'Slipper', 'Shirt', 'Shoes', 'Handbag', 'Boots']  \n",
    "\n",
    "# Create a figure\n",
    "fig, axes = plt.subplots(2, 5, figsize=(10, 5))\n",
    "\n",
    "# Track found classes\n",
    "found_classes = {}\n",
    "\n",
    "# Iterate over dataset and select one sample per class\n",
    "for i, (image, label) in enumerate(zip(train_images, train_labels)):\n",
    "    if label not in found_classes:\n",
    "        found_classes[label] = image\n",
    "        if len(found_classes) == 10:  # Stop when all 10 classes are found\n",
    "            break\n",
    "\n",
    "# Plot the images\n",
    "for i, (label, image) in enumerate(found_classes.items()):\n",
    "    ax = axes[i // 5, i % 5]\n",
    "    ax.imshow(image, cmap='gray')\n",
    "    ax.set_title(class_names[label])\n",
    "    ax.axis('off')\n",
    "\n",
    "plt.tight_layout()\n",
    "plt.show()"
   ]
  },
  {
   "cell_type": "code",
   "execution_count": 6,
   "id": "aa7eba66",
   "metadata": {
    "execution": {
     "iopub.execute_input": "2025-03-10T06:17:17.491082Z",
     "iopub.status.busy": "2025-03-10T06:17:17.490704Z",
     "iopub.status.idle": "2025-03-10T06:17:20.767808Z",
     "shell.execute_reply": "2025-03-10T06:17:20.766733Z"
    },
    "papermill": {
     "duration": 3.284337,
     "end_time": "2025-03-10T06:17:20.769616",
     "exception": false,
     "start_time": "2025-03-10T06:17:17.485279",
     "status": "completed"
    },
    "tags": []
   },
   "outputs": [
    {
     "name": "stderr",
     "output_type": "stream",
     "text": [
      "\u001b[34m\u001b[1mwandb\u001b[0m: Tracking run with wandb version 0.19.1\n",
      "\u001b[34m\u001b[1mwandb\u001b[0m: Run data is saved locally in \u001b[35m\u001b[1m/kaggle/working/wandb/run-20250310_061717-xqm3m9zz\u001b[0m\n",
      "\u001b[34m\u001b[1mwandb\u001b[0m: Run \u001b[1m`wandb offline`\u001b[0m to turn off syncing.\n",
      "\u001b[34m\u001b[1mwandb\u001b[0m: Syncing run \u001b[33mQuestion 1\u001b[0m\n",
      "\u001b[34m\u001b[1mwandb\u001b[0m: ⭐️ View project at \u001b[34m\u001b[4mhttps://wandb.ai/cs23m071-indian-institute-of-technology-madras/Deep%20Learning%20Course%20DA6401\u001b[0m\n",
      "\u001b[34m\u001b[1mwandb\u001b[0m: 🚀 View run at \u001b[34m\u001b[4mhttps://wandb.ai/cs23m071-indian-institute-of-technology-madras/Deep%20Learning%20Course%20DA6401/runs/xqm3m9zz\u001b[0m\n",
      "\u001b[34m\u001b[1mwandb\u001b[0m:                                                                                \n",
      "\u001b[34m\u001b[1mwandb\u001b[0m: 🚀 View run \u001b[33mQuestion 1\u001b[0m at: \u001b[34m\u001b[4mhttps://wandb.ai/cs23m071-indian-institute-of-technology-madras/Deep%20Learning%20Course%20DA6401/runs/xqm3m9zz\u001b[0m\n",
      "\u001b[34m\u001b[1mwandb\u001b[0m: ⭐️ View project at: \u001b[34m\u001b[4mhttps://wandb.ai/cs23m071-indian-institute-of-technology-madras/Deep%20Learning%20Course%20DA6401\u001b[0m\n",
      "\u001b[34m\u001b[1mwandb\u001b[0m: Synced 5 W&B file(s), 0 media file(s), 0 artifact file(s) and 10 other file(s)\n",
      "\u001b[34m\u001b[1mwandb\u001b[0m: Find logs at: \u001b[35m\u001b[1m./wandb/run-20250310_061717-xqm3m9zz/logs\u001b[0m\n"
     ]
    }
   ],
   "source": [
    "wandb.init(project=\"Deep Learning Course DA6401\", name=\"Question 1\")\n",
    "wandb_images = []\n",
    "\n",
    "for label, image in found_classes.items():\n",
    "    wandb_images.append(wandb.Image(image, caption=class_names[label]))\n",
    "\n",
    "# Log images to WandB\n",
    "wandb.log({\"Fashion-MNIST Samples\": wandb_images})\n",
    "\n",
    "# Finish WandB logging\n",
    "wandb.finish()\n",
    "# input()"
   ]
  },
  {
   "cell_type": "markdown",
   "id": "bd0011fd",
   "metadata": {
    "papermill": {
     "duration": 0.004539,
     "end_time": "2025-03-10T06:17:20.779580",
     "exception": false,
     "start_time": "2025-03-10T06:17:20.775041",
     "status": "completed"
    },
    "tags": []
   },
   "source": [
    "# Question 2"
   ]
  },
  {
   "cell_type": "code",
   "execution_count": 7,
   "id": "5e46db4f",
   "metadata": {
    "execution": {
     "iopub.execute_input": "2025-03-10T06:17:20.790681Z",
     "iopub.status.busy": "2025-03-10T06:17:20.790327Z",
     "iopub.status.idle": "2025-03-10T06:17:20.798225Z",
     "shell.execute_reply": "2025-03-10T06:17:20.797101Z"
    },
    "papermill": {
     "duration": 0.015089,
     "end_time": "2025-03-10T06:17:20.799545",
     "exception": false,
     "start_time": "2025-03-10T06:17:20.784456",
     "status": "completed"
    },
    "tags": []
   },
   "outputs": [],
   "source": [
    "def one_hot_encode(labels, num_classes=10):\n",
    "    return np.eye(num_classes)[labels]\n",
    "\n",
    "train_labels_one_hot = one_hot_encode(train_labels)\n",
    "test_labels_one_hot = one_hot_encode(test_labels)\n",
    "\n"
   ]
  },
  {
   "cell_type": "code",
   "execution_count": null,
   "id": "9c336408",
   "metadata": {
    "papermill": {
     "duration": 0.004513,
     "end_time": "2025-03-10T06:17:20.809322",
     "exception": false,
     "start_time": "2025-03-10T06:17:20.804809",
     "status": "completed"
    },
    "tags": []
   },
   "outputs": [],
   "source": []
  }
 ],
 "metadata": {
  "kaggle": {
   "accelerator": "none",
   "dataSources": [],
   "dockerImageVersionId": 30918,
   "isGpuEnabled": false,
   "isInternetEnabled": true,
   "language": "python",
   "sourceType": "notebook"
  },
  "kernelspec": {
   "display_name": "Python 3",
   "language": "python",
   "name": "python3"
  },
  "language_info": {
   "codemirror_mode": {
    "name": "ipython",
    "version": 3
   },
   "file_extension": ".py",
   "mimetype": "text/x-python",
   "name": "python",
   "nbconvert_exporter": "python",
   "pygments_lexer": "ipython3",
   "version": "3.10.12"
  },
  "papermill": {
   "default_parameters": {},
   "duration": 36.452455,
   "end_time": "2025-03-10T06:17:23.390405",
   "environment_variables": {},
   "exception": null,
   "input_path": "__notebook__.ipynb",
   "output_path": "__notebook__.ipynb",
   "parameters": {},
   "start_time": "2025-03-10T06:16:46.937950",
   "version": "2.6.0"
  }
 },
 "nbformat": 4,
 "nbformat_minor": 5
}
